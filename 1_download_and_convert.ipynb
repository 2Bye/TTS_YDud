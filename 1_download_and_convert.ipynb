{
 "cells": [
  {
   "cell_type": "code",
   "execution_count": 4,
   "id": "ee9392cd",
   "metadata": {},
   "outputs": [],
   "source": [
    "import os\n",
    "import sys\n",
    "import random\n",
    "import string\n",
    "import shutil\n",
    "import pandas as pd\n",
    "\n",
    "from pytube import YouTube\n",
    "from pydub import AudioSegment\n",
    "from transliterate import translit"
   ]
  },
  {
   "cell_type": "code",
   "execution_count": 5,
   "id": "40503200",
   "metadata": {},
   "outputs": [
    {
     "name": "stdout",
     "output_type": "stream",
     "text": [
      "child index out of range\n",
      "child index out of range\n",
      "child index out of range\n",
      "child index out of range\n"
     ]
    }
   ],
   "source": [
    "utube_links = ['https://www.youtube.com/watch?v=ARaX2djZYFw', ###Эльдман\n",
    "               'https://www.youtube.com/watch?v=70RmF0rPj9o', ###Акунин\n",
    "               'https://www.youtube.com/watch?v=GyStKaAoFnM', ###Комиссаренко\n",
    "               'https://www.youtube.com/watch?v=JB7E8wuEHjI', ###Усачев\n",
    "               'https://www.youtube.com/watch?v=in7tepc2shg', ###Гордон\n",
    "               'https://www.youtube.com/watch?v=78b3j2Jk_3A', ###Гордеева\n",
    "               'https://www.youtube.com/watch?v=IE7LDRNwMis', ###Тима\n",
    "               'https://www.youtube.com/watch?v=5PxzExJQOh4', ###Орлов\n",
    "               'https://www.youtube.com/watch?v=cBm4Q5ZVURs', ###СпортсРу  ### в начале присутствует реклама третьего голоса, а так же она возможна и в середине\n",
    "               'https://www.youtube.com/watch?v=5z_FQDm6cVg', ###ОМОКОНФ   ### Качество разница с остальными, так же могут быть проблемы\n",
    "               'https://youtu.be/5-JtB8lU8t8'] ### GQ\n",
    "#                'https://www.youtube.com/watch?v=jZrY3cFBTc8'] ###классный ролик с рекламнынми интеграциями, который можно запарсить\n",
    "\n",
    "def get_caption_by_language_name(yt):\n",
    "    for caption in yt.caption_tracks:\n",
    "        if caption.name == 'Russian (auto-generated)' or caption.name =='Russian':\n",
    "            return caption\n",
    "        else:\n",
    "            return None\n",
    "\n",
    "for link in utube_links:\n",
    "    yt = YouTube(link)\n",
    "    name = yt.streams[0].title.split('/')[0]\n",
    "    \n",
    "    subs = get_caption_by_language_name(yt)\n",
    "    audio = yt.streams.filter(only_audio=True).first()\n",
    "    out_file = audio.download(output_path = f'Original_audio/')\n",
    "    \n",
    "    try:\n",
    "        if  subs != None:\n",
    "            text = subs.generate_srt_captions()\n",
    "            with open(f'Original_audio/{name}.txt','w') as file:\n",
    "                file.write(text)\n",
    "    except Exception as e:\n",
    "        print(e)"
   ]
  },
  {
   "cell_type": "code",
   "execution_count": 6,
   "id": "2594fe39",
   "metadata": {},
   "outputs": [
    {
     "data": {
      "text/plain": [
       "0     None\n",
       "2     None\n",
       "3     None\n",
       "4     None\n",
       "5     None\n",
       "6     None\n",
       "7     None\n",
       "8     None\n",
       "10    None\n",
       "11    None\n",
       "12    None\n",
       "Name: 0, dtype: object"
      ]
     },
     "execution_count": 6,
     "metadata": {},
     "output_type": "execute_result"
    }
   ],
   "source": [
    "### if you have a lot of data, then I recommend using pandaparallel for converting\n",
    "\n",
    "def rename(x):\n",
    "    '''\n",
    "    Ru name to En name\n",
    "    example: Комиссаренко – новая жизнь после протестов в Беларуси  вДудь.mp4 -> Komissarenko.mp4\n",
    "    '''\n",
    "    try:\n",
    "        new_name = translit(x.split('/')[-1].split(' ')[0], reversed=True)\n",
    "        if new_name == 'Jurij':\n",
    "            random_number = ''.join(random.choices(string.ascii_lowercase, k=5))\n",
    "            new_name = 'Jurij_' + random_number\n",
    "            shutil.copyfile(x, 'YD_wav' + '/' + new_name + '.' +  x.split('.')[-1])\n",
    "        else:\n",
    "            shutil.copyfile(x, 'YD_wav' + '/' + new_name + '.' +  x.split('.')[-1])\n",
    "    except:\n",
    "        new_name = x.split('/')[-1].split(' ')[0]\n",
    "        shutil.copyfile(x, 'YD_wav' + '/' + new_name + '.' +  x.split('.')[-1])\n",
    "    return 'YD_wav' + '/' + new_name + '.' +  x.split('.')[-1]\n",
    "\n",
    "def convert(x):\n",
    "    audio = AudioSegment.from_file(x)\n",
    "    audio = audio.set_frame_rate(22050)\n",
    "    audio = audio.set_channels(1)\n",
    "    audio.export(x[:-4] + '.wav', codec=\"pcm_s16le\", format='wav')\n",
    "\n",
    "os.makedirs('YD_wav')\n",
    "data_yd = pd.DataFrame(data = os.listdir('Original_audio/'))\n",
    "data_yd[1] = data_yd[0].apply(lambda x: x[-3:] )\n",
    "data_yd = data_yd[data_yd[1] == 'mp4']\n",
    "data_yd[0] = 'Original_audio/' + data_yd[0]\n",
    "data_yd[0] = data_yd[0].apply(rename)\n",
    "data_yd[0].apply(convert)"
   ]
  }
 ],
 "metadata": {
  "kernelspec": {
   "display_name": "Python 3 (ipykernel)",
   "language": "python",
   "name": "python3"
  },
  "language_info": {
   "codemirror_mode": {
    "name": "ipython",
    "version": 3
   },
   "file_extension": ".py",
   "mimetype": "text/x-python",
   "name": "python",
   "nbconvert_exporter": "python",
   "pygments_lexer": "ipython3",
   "version": "3.8.12"
  }
 },
 "nbformat": 4,
 "nbformat_minor": 5
}
