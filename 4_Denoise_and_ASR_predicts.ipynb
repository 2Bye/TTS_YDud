{
 "cells": [
  {
   "cell_type": "code",
   "execution_count": 1,
   "id": "86659734",
   "metadata": {},
   "outputs": [],
   "source": [
    "import pandas as pd\n",
    "import noisereduce as nr\n",
    "import pandas as pd\n",
    "import os\n",
    "from pydub import AudioSegment\n",
    "from pathlib import Path\n",
    "from scipy.io.wavfile import read, write"
   ]
  },
  {
   "cell_type": "code",
   "execution_count": 2,
   "id": "db4279f9",
   "metadata": {},
   "outputs": [],
   "source": [
    "data_dud = pd.read_pickle('YuryDud_TTS_date.pkl')"
   ]
  },
  {
   "cell_type": "code",
   "execution_count": 3,
   "id": "db3b2331",
   "metadata": {},
   "outputs": [
    {
     "data": {
      "text/html": [
       "<div>\n",
       "<style scoped>\n",
       "    .dataframe tbody tr th:only-of-type {\n",
       "        vertical-align: middle;\n",
       "    }\n",
       "\n",
       "    .dataframe tbody tr th {\n",
       "        vertical-align: top;\n",
       "    }\n",
       "\n",
       "    .dataframe thead th {\n",
       "        text-align: right;\n",
       "    }\n",
       "</style>\n",
       "<table border=\"1\" class=\"dataframe\">\n",
       "  <thead>\n",
       "    <tr style=\"text-align: right;\">\n",
       "      <th></th>\n",
       "      <th>0</th>\n",
       "      <th>1</th>\n",
       "    </tr>\n",
       "  </thead>\n",
       "  <tbody>\n",
       "    <tr>\n",
       "      <th>0</th>\n",
       "      <td>YD_short/Akunin/short_103.wav</td>\n",
       "      <td>1.360000</td>\n",
       "    </tr>\n",
       "    <tr>\n",
       "      <th>1</th>\n",
       "      <td>YD_short/Akunin/short_575.wav</td>\n",
       "      <td>3.764989</td>\n",
       "    </tr>\n",
       "    <tr>\n",
       "      <th>2</th>\n",
       "      <td>YD_short/Akunin/short_801.wav</td>\n",
       "      <td>1.700000</td>\n",
       "    </tr>\n",
       "    <tr>\n",
       "      <th>3</th>\n",
       "      <td>YD_short/Akunin/short_546.wav</td>\n",
       "      <td>1.875011</td>\n",
       "    </tr>\n",
       "    <tr>\n",
       "      <th>4</th>\n",
       "      <td>YD_short/Akunin/short_844.wav</td>\n",
       "      <td>1.624989</td>\n",
       "    </tr>\n",
       "  </tbody>\n",
       "</table>\n",
       "</div>"
      ],
      "text/plain": [
       "                               0         1\n",
       "0  YD_short/Akunin/short_103.wav  1.360000\n",
       "1  YD_short/Akunin/short_575.wav  3.764989\n",
       "2  YD_short/Akunin/short_801.wav  1.700000\n",
       "3  YD_short/Akunin/short_546.wav  1.875011\n",
       "4  YD_short/Akunin/short_844.wav  1.624989"
      ]
     },
     "execution_count": 3,
     "metadata": {},
     "output_type": "execute_result"
    }
   ],
   "source": [
    "data_dud.head()"
   ]
  },
  {
   "cell_type": "code",
   "execution_count": 4,
   "id": "98310c99",
   "metadata": {},
   "outputs": [
    {
     "data": {
      "text/plain": [
       "(2660, 2)"
      ]
     },
     "execution_count": 4,
     "metadata": {},
     "output_type": "execute_result"
    }
   ],
   "source": [
    "data_dud.shape"
   ]
  },
  {
   "cell_type": "code",
   "execution_count": 5,
   "id": "68bf1efe",
   "metadata": {},
   "outputs": [],
   "source": [
    "def denoise(path_to_wav: str, dir_to_save: str, coef_denosie: float):\n",
    "    '''\n",
    "    example:\n",
    "        path to wav -> /path/to/wav/file.wav\n",
    "        dir_to_save -> /path/to/dir/save\n",
    "        save file -> /path/to/dir/save/file.wav\n",
    "    '''\n",
    "    key = path_to_wav.split('/')[-2]\n",
    "    if not os.path.exists( Path(dir_to_save,key) ):\n",
    "        os.makedirs( Path(dir_to_save, key) )\n",
    "    try:\n",
    "        sr, data = read(path_to_wav)\n",
    "        reduced_noise = nr.reduce_noise(y=data, sr=sr, n_std_thresh_stationary=coef_denosie, stationary=True)\n",
    "        write(Path(dir_to_save, key, path_to_wav.split('/')[-1]), sr, reduced_noise)\n",
    "    except Exception as e:\n",
    "        print(f'File - {path_to_wav} - not denoising')\n",
    "        print(e)"
   ]
  },
  {
   "cell_type": "code",
   "execution_count": 6,
   "id": "76185fcc",
   "metadata": {},
   "outputs": [
    {
     "data": {
      "text/plain": [
       "0       None\n",
       "1       None\n",
       "2       None\n",
       "3       None\n",
       "4       None\n",
       "        ... \n",
       "2655    None\n",
       "2656    None\n",
       "2657    None\n",
       "2658    None\n",
       "2659    None\n",
       "Name: 0, Length: 2660, dtype: object"
      ]
     },
     "execution_count": 6,
     "metadata": {},
     "output_type": "execute_result"
    }
   ],
   "source": [
    "### Change coef\n",
    "coef_denosie = 0.0\n",
    "data_dud[0].apply(lambda x: denoise(x, 'YD_denoise_short_wavs/', coef_denosie = coef_denosie))"
   ]
  },
  {
   "cell_type": "code",
   "execution_count": 7,
   "id": "073e609e",
   "metadata": {},
   "outputs": [],
   "source": [
    "### create new meta\n",
    "data_dud[2] = data_dud[1]\n",
    "data_dud[1] = data_dud[0].apply(lambda x: 'YD_denoise_short_wavs/' + '/'.join(x.split('/')[-2:]))"
   ]
  },
  {
   "cell_type": "code",
   "execution_count": 8,
   "id": "f3bf191b",
   "metadata": {},
   "outputs": [],
   "source": [
    "data_dud.rename(columns={0:'path_to_original_short',1:'path_to_denoise_short',2:'duration'}, inplace=True)"
   ]
  },
  {
   "cell_type": "code",
   "execution_count": 9,
   "id": "b5556297",
   "metadata": {},
   "outputs": [
    {
     "data": {
      "text/html": [
       "<div>\n",
       "<style scoped>\n",
       "    .dataframe tbody tr th:only-of-type {\n",
       "        vertical-align: middle;\n",
       "    }\n",
       "\n",
       "    .dataframe tbody tr th {\n",
       "        vertical-align: top;\n",
       "    }\n",
       "\n",
       "    .dataframe thead th {\n",
       "        text-align: right;\n",
       "    }\n",
       "</style>\n",
       "<table border=\"1\" class=\"dataframe\">\n",
       "  <thead>\n",
       "    <tr style=\"text-align: right;\">\n",
       "      <th></th>\n",
       "      <th>path_to_original_short</th>\n",
       "      <th>path_to_denoise_short</th>\n",
       "      <th>duration</th>\n",
       "    </tr>\n",
       "  </thead>\n",
       "  <tbody>\n",
       "    <tr>\n",
       "      <th>0</th>\n",
       "      <td>YD_short/Akunin/short_103.wav</td>\n",
       "      <td>YD_denoise_short_wavs/Akunin/short_103.wav</td>\n",
       "      <td>1.360000</td>\n",
       "    </tr>\n",
       "    <tr>\n",
       "      <th>1</th>\n",
       "      <td>YD_short/Akunin/short_575.wav</td>\n",
       "      <td>YD_denoise_short_wavs/Akunin/short_575.wav</td>\n",
       "      <td>3.764989</td>\n",
       "    </tr>\n",
       "    <tr>\n",
       "      <th>2</th>\n",
       "      <td>YD_short/Akunin/short_801.wav</td>\n",
       "      <td>YD_denoise_short_wavs/Akunin/short_801.wav</td>\n",
       "      <td>1.700000</td>\n",
       "    </tr>\n",
       "    <tr>\n",
       "      <th>3</th>\n",
       "      <td>YD_short/Akunin/short_546.wav</td>\n",
       "      <td>YD_denoise_short_wavs/Akunin/short_546.wav</td>\n",
       "      <td>1.875011</td>\n",
       "    </tr>\n",
       "    <tr>\n",
       "      <th>4</th>\n",
       "      <td>YD_short/Akunin/short_844.wav</td>\n",
       "      <td>YD_denoise_short_wavs/Akunin/short_844.wav</td>\n",
       "      <td>1.624989</td>\n",
       "    </tr>\n",
       "  </tbody>\n",
       "</table>\n",
       "</div>"
      ],
      "text/plain": [
       "          path_to_original_short                       path_to_denoise_short  \\\n",
       "0  YD_short/Akunin/short_103.wav  YD_denoise_short_wavs/Akunin/short_103.wav   \n",
       "1  YD_short/Akunin/short_575.wav  YD_denoise_short_wavs/Akunin/short_575.wav   \n",
       "2  YD_short/Akunin/short_801.wav  YD_denoise_short_wavs/Akunin/short_801.wav   \n",
       "3  YD_short/Akunin/short_546.wav  YD_denoise_short_wavs/Akunin/short_546.wav   \n",
       "4  YD_short/Akunin/short_844.wav  YD_denoise_short_wavs/Akunin/short_844.wav   \n",
       "\n",
       "   duration  \n",
       "0  1.360000  \n",
       "1  3.764989  \n",
       "2  1.700000  \n",
       "3  1.875011  \n",
       "4  1.624989  "
      ]
     },
     "execution_count": 9,
     "metadata": {},
     "output_type": "execute_result"
    }
   ],
   "source": [
    "data_dud.head()"
   ]
  },
  {
   "cell_type": "code",
   "execution_count": 10,
   "id": "0ad29f00",
   "metadata": {},
   "outputs": [
    {
     "name": "stdout",
     "output_type": "stream",
     "text": [
      "NOTE! Installing ujson may make loading annotations faster.\n"
     ]
    },
    {
     "name": "stderr",
     "output_type": "stream",
     "text": [
      "################################################################################\n",
      "### WARNING, path does not exist: KALDI_ROOT=/mnt/matylda5/iveselyk/Tools/kaldi-trunk\n",
      "###          (please add 'export KALDI_ROOT=<your_path>' in your $HOME/.profile)\n",
      "###          (or run as: KALDI_ROOT=<your_path> python <your_script>.py)\n",
      "################################################################################\n",
      "\n",
      "[NeMo W 2022-04-04 08:37:23 modelPT:148] If you intend to do training or fine-tuning, please call the ModelPT.setup_training_data() method and provide a valid configuration file to setup the train data loader.\n",
      "    Train config : \n",
      "    manifest_filepath: train/golos_and_mcv.jsonl\n",
      "    sample_rate: 16000\n",
      "    labels:\n",
      "    - ' '\n",
      "    - а\n",
      "    - б\n",
      "    - в\n",
      "    - г\n",
      "    - д\n",
      "    - е\n",
      "    - ж\n",
      "    - з\n",
      "    - и\n",
      "    - й\n",
      "    - к\n",
      "    - л\n",
      "    - м\n",
      "    - н\n",
      "    - о\n",
      "    - п\n",
      "    - р\n",
      "    - с\n",
      "    - т\n",
      "    - у\n",
      "    - ф\n",
      "    - х\n",
      "    - ц\n",
      "    - ч\n",
      "    - ш\n",
      "    - щ\n",
      "    - ъ\n",
      "    - ы\n",
      "    - ь\n",
      "    - э\n",
      "    - ю\n",
      "    - я\n",
      "    batch_size: 64\n",
      "    trim_silence: false\n",
      "    max_duration: 20.0\n",
      "    min_duration: 0.1\n",
      "    num_workers: 20\n",
      "    shuffle: true\n",
      "    is_tarred: false\n",
      "    tarred_audio_filepaths: null\n",
      "    tarred_shard_strategy: scatter\n",
      "    parser: ru\n",
      "    \n",
      "[NeMo W 2022-04-04 08:37:23 modelPT:155] If you intend to do validation, please call the ModelPT.setup_validation_data() or ModelPT.setup_multiple_validation_data() method and provide a valid configuration file to setup the validation data loader(s). \n",
      "    Validation config : \n",
      "    manifest_filepath:\n",
      "    - test/mcv/dev_ru.jsonl\n",
      "    - test/mcv/test_ru.jsonl\n",
      "    - test/crowd/crowd.jsonl\n",
      "    - test/farfield/farfield.jsonl\n",
      "    sample_rate: 16000\n",
      "    labels:\n",
      "    - ' '\n",
      "    - а\n",
      "    - б\n",
      "    - в\n",
      "    - г\n",
      "    - д\n",
      "    - е\n",
      "    - ж\n",
      "    - з\n",
      "    - и\n",
      "    - й\n",
      "    - к\n",
      "    - л\n",
      "    - м\n",
      "    - н\n",
      "    - о\n",
      "    - п\n",
      "    - р\n",
      "    - с\n",
      "    - т\n",
      "    - у\n",
      "    - ф\n",
      "    - х\n",
      "    - ц\n",
      "    - ч\n",
      "    - ш\n",
      "    - щ\n",
      "    - ъ\n",
      "    - ы\n",
      "    - ь\n",
      "    - э\n",
      "    - ю\n",
      "    - я\n",
      "    batch_size: 64\n",
      "    num_workers: 20\n",
      "    shuffle: false\n",
      "    parser: ru\n",
      "    \n",
      "[NeMo W 2022-04-04 08:37:23 modelPT:161] Please call the ModelPT.setup_test_data() or ModelPT.setup_multiple_test_data() method and provide a valid configuration file to setup the test data loader(s).\n",
      "    Test config : \n",
      "    manifest_filepath: test/mcv/test_ru.jsonl\n",
      "    sample_rate: 16000\n",
      "    labels:\n",
      "    - ' '\n",
      "    - а\n",
      "    - б\n",
      "    - в\n",
      "    - г\n",
      "    - д\n",
      "    - е\n",
      "    - ж\n",
      "    - з\n",
      "    - и\n",
      "    - й\n",
      "    - к\n",
      "    - л\n",
      "    - м\n",
      "    - н\n",
      "    - о\n",
      "    - п\n",
      "    - р\n",
      "    - с\n",
      "    - т\n",
      "    - у\n",
      "    - ф\n",
      "    - х\n",
      "    - ц\n",
      "    - ч\n",
      "    - ш\n",
      "    - щ\n",
      "    - ъ\n",
      "    - ы\n",
      "    - ь\n",
      "    - э\n",
      "    - ю\n",
      "    - я\n",
      "    batch_size: 64\n",
      "    shuffle: false\n",
      "    parser: ru\n",
      "    \n"
     ]
    },
    {
     "name": "stdout",
     "output_type": "stream",
     "text": [
      "[NeMo I 2022-04-04 08:37:23 features:255] PADDING: 16\n",
      "[NeMo I 2022-04-04 08:37:23 features:272] STFT using torch\n",
      "[NeMo I 2022-04-04 08:37:25 save_restore_connector:157] Model EncDecCTCModel was successfully restored from /workspace/byebye/pet_pr/checkpoints/QuartzNet15x5_golos.nemo.\n"
     ]
    }
   ],
   "source": [
    "### ASR init\n",
    "import nemo.collections.asr as nemo_asr\n",
    "ASR = nemo_asr.models.EncDecCTCModel.restore_from(\"checkpoints/QuartzNet15x5_golos.nemo\", map_location='cuda')"
   ]
  },
  {
   "cell_type": "code",
   "execution_count": 11,
   "id": "d7e23371",
   "metadata": {},
   "outputs": [
    {
     "data": {
      "application/vnd.jupyter.widget-view+json": {
       "model_id": "1aa02c9b12b248e49fb59d6187f96aec",
       "version_major": 2,
       "version_minor": 0
      },
      "text/plain": [
       "Transcribing:   0%|          | 0/84 [00:00<?, ?it/s]"
      ]
     },
     "metadata": {},
     "output_type": "display_data"
    }
   ],
   "source": [
    "transcript = ASR.transcribe(data_dud['path_to_denoise_short'], batch_size=32)"
   ]
  },
  {
   "cell_type": "code",
   "execution_count": 13,
   "id": "61d65bb8",
   "metadata": {},
   "outputs": [
    {
     "data": {
      "text/html": [
       "<div>\n",
       "<style scoped>\n",
       "    .dataframe tbody tr th:only-of-type {\n",
       "        vertical-align: middle;\n",
       "    }\n",
       "\n",
       "    .dataframe tbody tr th {\n",
       "        vertical-align: top;\n",
       "    }\n",
       "\n",
       "    .dataframe thead th {\n",
       "        text-align: right;\n",
       "    }\n",
       "</style>\n",
       "<table border=\"1\" class=\"dataframe\">\n",
       "  <thead>\n",
       "    <tr style=\"text-align: right;\">\n",
       "      <th></th>\n",
       "      <th>path_to_original_short</th>\n",
       "      <th>path_to_denoise_short</th>\n",
       "      <th>duration</th>\n",
       "      <th>transcript</th>\n",
       "    </tr>\n",
       "  </thead>\n",
       "  <tbody>\n",
       "    <tr>\n",
       "      <th>0</th>\n",
       "      <td>YD_short/Akunin/short_103.wav</td>\n",
       "      <td>YD_denoise_short_wavs/Akunin/short_103.wav</td>\n",
       "      <td>1.360000</td>\n",
       "      <td></td>\n",
       "    </tr>\n",
       "    <tr>\n",
       "      <th>1</th>\n",
       "      <td>YD_short/Akunin/short_575.wav</td>\n",
       "      <td>YD_denoise_short_wavs/Akunin/short_575.wav</td>\n",
       "      <td>3.764989</td>\n",
       "      <td>да на тиковил его мытеваться в том что я попро...</td>\n",
       "    </tr>\n",
       "    <tr>\n",
       "      <th>2</th>\n",
       "      <td>YD_short/Akunin/short_801.wav</td>\n",
       "      <td>YD_denoise_short_wavs/Akunin/short_801.wav</td>\n",
       "      <td>1.700000</td>\n",
       "      <td></td>\n",
       "    </tr>\n",
       "    <tr>\n",
       "      <th>3</th>\n",
       "      <td>YD_short/Akunin/short_546.wav</td>\n",
       "      <td>YD_denoise_short_wavs/Akunin/short_546.wav</td>\n",
       "      <td>1.875011</td>\n",
       "      <td>то что этот скилон то же присутствует</td>\n",
       "    </tr>\n",
       "    <tr>\n",
       "      <th>4</th>\n",
       "      <td>YD_short/Akunin/short_844.wav</td>\n",
       "      <td>YD_denoise_short_wavs/Akunin/short_844.wav</td>\n",
       "      <td>1.624989</td>\n",
       "      <td>но там не было жиреноское писко</td>\n",
       "    </tr>\n",
       "    <tr>\n",
       "      <th>5</th>\n",
       "      <td>YD_short/Akunin/short_101.wav</td>\n",
       "      <td>YD_denoise_short_wavs/Akunin/short_101.wav</td>\n",
       "      <td>2.540000</td>\n",
       "      <td>для начала какой вообще относится к тому что г...</td>\n",
       "    </tr>\n",
       "    <tr>\n",
       "      <th>6</th>\n",
       "      <td>YD_short/Akunin/short_687.wav</td>\n",
       "      <td>YD_denoise_short_wavs/Akunin/short_687.wav</td>\n",
       "      <td>3.124989</td>\n",
       "      <td>а запад е не доценил а о чей час что мог сделать</td>\n",
       "    </tr>\n",
       "    <tr>\n",
       "      <th>7</th>\n",
       "      <td>YD_short/Akunin/short_233.wav</td>\n",
       "      <td>YD_denoise_short_wavs/Akunin/short_233.wav</td>\n",
       "      <td>2.020000</td>\n",
       "      <td>ну и в россии вообще сейчас</td>\n",
       "    </tr>\n",
       "    <tr>\n",
       "      <th>8</th>\n",
       "      <td>YD_short/Akunin/short_350.wav</td>\n",
       "      <td>YD_denoise_short_wavs/Akunin/short_350.wav</td>\n",
       "      <td>7.875011</td>\n",
       "      <td>безусловное могу быть наименно что все таке ко...</td>\n",
       "    </tr>\n",
       "    <tr>\n",
       "      <th>9</th>\n",
       "      <td>YD_short/Akunin/short_102.wav</td>\n",
       "      <td>YD_denoise_short_wavs/Akunin/short_102.wav</td>\n",
       "      <td>2.020000</td>\n",
       "      <td>кучино сравнивает с николаем первым</td>\n",
       "    </tr>\n",
       "  </tbody>\n",
       "</table>\n",
       "</div>"
      ],
      "text/plain": [
       "          path_to_original_short                       path_to_denoise_short  \\\n",
       "0  YD_short/Akunin/short_103.wav  YD_denoise_short_wavs/Akunin/short_103.wav   \n",
       "1  YD_short/Akunin/short_575.wav  YD_denoise_short_wavs/Akunin/short_575.wav   \n",
       "2  YD_short/Akunin/short_801.wav  YD_denoise_short_wavs/Akunin/short_801.wav   \n",
       "3  YD_short/Akunin/short_546.wav  YD_denoise_short_wavs/Akunin/short_546.wav   \n",
       "4  YD_short/Akunin/short_844.wav  YD_denoise_short_wavs/Akunin/short_844.wav   \n",
       "5  YD_short/Akunin/short_101.wav  YD_denoise_short_wavs/Akunin/short_101.wav   \n",
       "6  YD_short/Akunin/short_687.wav  YD_denoise_short_wavs/Akunin/short_687.wav   \n",
       "7  YD_short/Akunin/short_233.wav  YD_denoise_short_wavs/Akunin/short_233.wav   \n",
       "8  YD_short/Akunin/short_350.wav  YD_denoise_short_wavs/Akunin/short_350.wav   \n",
       "9  YD_short/Akunin/short_102.wav  YD_denoise_short_wavs/Akunin/short_102.wav   \n",
       "\n",
       "   duration                                         transcript  \n",
       "0  1.360000                                                     \n",
       "1  3.764989  да на тиковил его мытеваться в том что я попро...  \n",
       "2  1.700000                                                     \n",
       "3  1.875011              то что этот скилон то же присутствует  \n",
       "4  1.624989                    но там не было жиреноское писко  \n",
       "5  2.540000  для начала какой вообще относится к тому что г...  \n",
       "6  3.124989   а запад е не доценил а о чей час что мог сделать  \n",
       "7  2.020000                        ну и в россии вообще сейчас  \n",
       "8  7.875011  безусловное могу быть наименно что все таке ко...  \n",
       "9  2.020000                кучино сравнивает с николаем первым  "
      ]
     },
     "execution_count": 13,
     "metadata": {},
     "output_type": "execute_result"
    }
   ],
   "source": [
    "data_dud['transcript'] = transcript\n",
    "data_dud.head(10)"
   ]
  },
  {
   "cell_type": "code",
   "execution_count": 18,
   "id": "480247be",
   "metadata": {},
   "outputs": [
    {
     "data": {
      "text/plain": [
       "(2457, 4)"
      ]
     },
     "execution_count": 18,
     "metadata": {},
     "output_type": "execute_result"
    }
   ],
   "source": [
    "data_dud.shape"
   ]
  },
  {
   "cell_type": "code",
   "execution_count": 23,
   "id": "a252e083",
   "metadata": {},
   "outputs": [],
   "source": [
    "data_dud = data_dud[data_dud['transcript'] != ' '].reset_index(drop=True)\n",
    "data_dud = data_dud[data_dud['transcript'] != ''].reset_index(drop=True)"
   ]
  },
  {
   "cell_type": "code",
   "execution_count": 25,
   "id": "8f8030bd",
   "metadata": {},
   "outputs": [],
   "source": [
    "data_dud.to_pickle('YuryDud_TTS_date.pkl')"
   ]
  }
 ],
 "metadata": {
  "kernelspec": {
   "display_name": "Python 3 (ipykernel)",
   "language": "python",
   "name": "python3"
  },
  "language_info": {
   "codemirror_mode": {
    "name": "ipython",
    "version": 3
   },
   "file_extension": ".py",
   "mimetype": "text/x-python",
   "name": "python",
   "nbconvert_exporter": "python",
   "pygments_lexer": "ipython3",
   "version": "3.8.12"
  }
 },
 "nbformat": 4,
 "nbformat_minor": 5
}
